{
 "cells": [
  {
   "cell_type": "markdown",
   "id": "f5e1af04",
   "metadata": {},
   "source": [
    "# Crop Production and Rainfall Analysis\n",
    "This notebook outlines the preprocessing steps for analyzing the relationship between crop production and rainfall in India."
   ]
  },
  {
   "cell_type": "code",
   "execution_count": 14,
   "id": "ad3cb3f1",
   "metadata": {},
   "outputs": [],
   "source": [
    "\n",
    "import pandas as pd\n",
    "import numpy as np\n",
    "    "
   ]
  },
  {
   "cell_type": "markdown",
   "id": "9e921bf4",
   "metadata": {},
   "source": [
    "## Load Datasets"
   ]
  },
  {
   "cell_type": "code",
   "execution_count": 15,
   "id": "46171d62",
   "metadata": {},
   "outputs": [],
   "source": [
    "\n",
    "# Replace the placeholders with the actual file paths\n",
    "crop_production_path = '/Users/anishak98/Desktop/Project-4/Raw Data/India Agriculture Crop Production.csv'\n",
    "rainfall_path = '/Users/anishak98/Desktop/Project-4/Raw Data/Rainfall_Data_LL.csv'\n",
    "\n",
    "crop_production_df = pd.read_csv(crop_production_path)\n",
    "rainfall_df = pd.read_csv(rainfall_path)\n",
    "    "
   ]
  },
  {
   "cell_type": "markdown",
   "id": "baa71bab",
   "metadata": {},
   "source": [
    "## Preprocessing"
   ]
  },
  {
   "cell_type": "code",
   "execution_count": 16,
   "id": "05b4c249",
   "metadata": {},
   "outputs": [],
   "source": [
    "\n",
    "# Drop rows with missing 'Production' values\n",
    "crop_production_df = crop_production_df.dropna(subset=['Production'])\n",
    "\n",
    "# Convert year format in crop production dataset\n",
    "crop_production_df['Year'] = crop_production_df['Year'].apply(lambda x: x.split('-')[0])\n",
    "    "
   ]
  },
  {
   "cell_type": "code",
   "execution_count": 17,
   "id": "5bc9433f",
   "metadata": {},
   "outputs": [
    {
     "name": "stdout",
     "output_type": "stream",
     "text": [
      "               State   Crop  Year     Yield\n",
      "0  Arunachal Pradesh  Maize  1970  1.495431\n",
      "1  Arunachal Pradesh  Maize  1970  1.500546\n",
      "2  Arunachal Pradesh  Maize  1970  1.559913\n",
      "3  Arunachal Pradesh  Maize  1970  1.196078\n",
      "4  Arunachal Pradesh  Maize  1970  0.415598\n",
      "<class 'pandas.core.frame.DataFrame'>\n",
      "RangeIndex: 17155 entries, 0 to 17154\n",
      "Data columns (total 4 columns):\n",
      " #   Column  Non-Null Count  Dtype  \n",
      "---  ------  --------------  -----  \n",
      " 0   State   17155 non-null  object \n",
      " 1   Crop    17155 non-null  object \n",
      " 2   Year    17155 non-null  int32  \n",
      " 3   Yield   17155 non-null  float64\n",
      "dtypes: float64(1), int32(1), object(2)\n",
      "memory usage: 469.2+ KB\n"
     ]
    },
    {
     "name": "stderr",
     "output_type": "stream",
     "text": [
      "/var/folders/1g/q9gxtv_j0vxc7tlf0j1712sh0000gn/T/ipykernel_5925/739003252.py:11: SettingWithCopyWarning: \n",
      "A value is trying to be set on a copy of a slice from a DataFrame.\n",
      "Try using .loc[row_indexer,col_indexer] = value instead\n",
      "\n",
      "See the caveats in the documentation: https://pandas.pydata.org/pandas-docs/stable/user_guide/indexing.html#returning-a-view-versus-a-copy\n",
      "  crop_data_cleaned['Year'] = pd.to_datetime(crop_data_cleaned['Year']).dt.year\n"
     ]
    }
   ],
   "source": [
    "\n",
    "crop_path = '/Users/anishak98/Desktop/Project-4/crop_data.csv'\n",
    "crop_df = pd.read_csv(crop_path)\n",
    "# Read the CSV file into a pandas DataFrame\n",
    "crop_data_df = pd.read_csv(crop_path)\n",
    "\n",
    "# Select only the required columns\n",
    "required_columns = ['State', 'Crop', 'Year', 'Yield']\n",
    "crop_data_cleaned = crop_data_df[required_columns]\n",
    "\n",
    "# Assuming 'Year' might be in a different format or have inconsistencies, we standardize it to a single format\n",
    "crop_data_cleaned['Year'] = pd.to_datetime(crop_data_cleaned['Year']).dt.year\n",
    "\n",
    "# Checking for any missing values in these columns and decide how to handle them\n",
    "# For simplicity, let's drop any rows with missing values in these columns\n",
    "crop_data_cleaned = crop_data_cleaned.dropna(subset=required_columns)\n",
    "\n",
    "# Reset index after dropping rows\n",
    "crop_data_cleaned.reset_index(drop=True, inplace=True)\n",
    "\n",
    "# Display the cleaned DataFrame\n",
    "print(crop_data_cleaned.head())\n",
    "crop_data_cleaned.info()\n",
    "\n",
    "# Define the path where you want to save the cleaned CSV\n",
    "output_path = '/Users/anishak98/Desktop/Project-4/crop_data_cleaned.csv'\n",
    "\n",
    "# Save the cleaned DataFrame to a CSV file\n",
    "crop_data_cleaned.to_csv(output_path, index=False)\n",
    "\n",
    "\n",
    "\n",
    "    "
   ]
  },
  {
   "cell_type": "markdown",
   "id": "5456f0a8",
   "metadata": {},
   "source": [
    "## Merging Datasets"
   ]
  },
  {
   "cell_type": "code",
   "execution_count": null,
   "id": "df75b1c8",
   "metadata": {},
   "outputs": [],
   "source": [
    "\n",
    "\n",
    "    "
   ]
  },
  {
   "cell_type": "markdown",
   "id": "9ff384a4",
   "metadata": {},
   "source": [
    "## Exploratory Data Analysis (EDA)"
   ]
  },
  {
   "cell_type": "code",
   "execution_count": null,
   "id": "ddeabad8",
   "metadata": {},
   "outputs": [],
   "source": [
    "\n",
    "    "
   ]
  },
  {
   "cell_type": "markdown",
   "id": "83b34115",
   "metadata": {},
   "source": [
    "## Feature Engineering and Model Preparation"
   ]
  },
  {
   "cell_type": "code",
   "execution_count": null,
   "id": "cba1da51",
   "metadata": {},
   "outputs": [],
   "source": [
    "\n",
    "\n",
    "    "
   ]
  }
 ],
 "metadata": {
  "kernelspec": {
   "display_name": "base",
   "language": "python",
   "name": "python3"
  },
  "language_info": {
   "codemirror_mode": {
    "name": "ipython",
    "version": 3
   },
   "file_extension": ".py",
   "mimetype": "text/x-python",
   "name": "python",
   "nbconvert_exporter": "python",
   "pygments_lexer": "ipython3",
   "version": "3.11.5"
  }
 },
 "nbformat": 4,
 "nbformat_minor": 5
}
